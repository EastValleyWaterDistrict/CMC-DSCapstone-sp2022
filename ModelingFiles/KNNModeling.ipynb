{
 "cells": [
  {
   "cell_type": "markdown",
   "metadata": {},
   "source": [
    "# EVWD Daily Water Consumption Data K-Nearest-Neighbors Model "
   ]
  },
  {
   "cell_type": "markdown",
   "metadata": {},
   "source": [
    "### Variables Being Tested:  \n",
    "Consumption Bin Size: 40 "
   ]
  },
  {
   "cell_type": "code",
   "execution_count": 128,
   "metadata": {},
   "outputs": [],
   "source": [
    "# Import libraries\n",
    "import numpy as np      \n",
    "import pandas as pd    \n",
    "from IPython.display import display\n",
    "from sklearn                        import metrics, svm\n",
    "from sklearn.linear_model           import LogisticRegression\n",
    "from sklearn import preprocessing\n",
    "from sklearn import utils\n",
    "import pickle"
   ]
  },
  {
   "cell_type": "code",
   "execution_count": 129,
   "metadata": {},
   "outputs": [
    {
     "name": "stdout",
     "output_type": "stream",
     "text": [
      "../CleanedData/AllData10000Bins.csv : file read into a pandas dataframe.\n"
     ]
    }
   ],
   "source": [
    "# Read in the data \n",
    "filename = '../CleanedData/AllData10000Bins.csv'\n",
    "all_data = pd.read_csv(filename)      \n",
    "print(f\"{filename} : file read into a pandas dataframe.\")"
   ]
  },
  {
   "cell_type": "code",
   "execution_count": 130,
   "metadata": {},
   "outputs": [
    {
     "data": {
      "text/html": [
       "<div>\n",
       "<style scoped>\n",
       "    .dataframe tbody tr th:only-of-type {\n",
       "        vertical-align: middle;\n",
       "    }\n",
       "\n",
       "    .dataframe tbody tr th {\n",
       "        vertical-align: top;\n",
       "    }\n",
       "\n",
       "    .dataframe thead th {\n",
       "        text-align: right;\n",
       "    }\n",
       "</style>\n",
       "<table border=\"1\" class=\"dataframe\">\n",
       "  <thead>\n",
       "    <tr style=\"text-align: right;\">\n",
       "      <th></th>\n",
       "      <th>Holiday</th>\n",
       "      <th>ETo (in)</th>\n",
       "      <th>Precip (in)</th>\n",
       "      <th>Sol Rad (Ly/day)</th>\n",
       "      <th>Avg Vap Pres (mBars)</th>\n",
       "      <th>Max Air Temp (F)</th>\n",
       "      <th>Min Air Temp (F)</th>\n",
       "      <th>Avg Air Temp (F)</th>\n",
       "      <th>Max Rel Hum (%)</th>\n",
       "      <th>Min Rel Hum (%)</th>\n",
       "      <th>Avg Rel Hum (%)</th>\n",
       "      <th>Dew Point (F)</th>\n",
       "      <th>Avg Wind Speed (mph)</th>\n",
       "      <th>Wind Run (miles)</th>\n",
       "      <th>Avg Soil Temp (F)</th>\n",
       "      <th>DayOfWeek</th>\n",
       "      <th>ZoneNum</th>\n",
       "      <th>Consumption</th>\n",
       "    </tr>\n",
       "  </thead>\n",
       "  <tbody>\n",
       "    <tr>\n",
       "      <th>0</th>\n",
       "      <td>0</td>\n",
       "      <td>0.19</td>\n",
       "      <td>0.00</td>\n",
       "      <td>470</td>\n",
       "      <td>13.2</td>\n",
       "      <td>93.5</td>\n",
       "      <td>60.6</td>\n",
       "      <td>76.0</td>\n",
       "      <td>76</td>\n",
       "      <td>21</td>\n",
       "      <td>43</td>\n",
       "      <td>52.0</td>\n",
       "      <td>3.1</td>\n",
       "      <td>75.2</td>\n",
       "      <td>73.2</td>\n",
       "      <td>0</td>\n",
       "      <td>0</td>\n",
       "      <td>0</td>\n",
       "    </tr>\n",
       "    <tr>\n",
       "      <th>1</th>\n",
       "      <td>0</td>\n",
       "      <td>0.20</td>\n",
       "      <td>0.00</td>\n",
       "      <td>478</td>\n",
       "      <td>12.8</td>\n",
       "      <td>92.5</td>\n",
       "      <td>59.2</td>\n",
       "      <td>75.8</td>\n",
       "      <td>75</td>\n",
       "      <td>21</td>\n",
       "      <td>42</td>\n",
       "      <td>51.1</td>\n",
       "      <td>3.3</td>\n",
       "      <td>79.4</td>\n",
       "      <td>73.2</td>\n",
       "      <td>1</td>\n",
       "      <td>0</td>\n",
       "      <td>0</td>\n",
       "    </tr>\n",
       "    <tr>\n",
       "      <th>2</th>\n",
       "      <td>0</td>\n",
       "      <td>0.19</td>\n",
       "      <td>0.00</td>\n",
       "      <td>463</td>\n",
       "      <td>12.7</td>\n",
       "      <td>92.2</td>\n",
       "      <td>61.0</td>\n",
       "      <td>76.1</td>\n",
       "      <td>67</td>\n",
       "      <td>22</td>\n",
       "      <td>41</td>\n",
       "      <td>50.9</td>\n",
       "      <td>3.0</td>\n",
       "      <td>73.1</td>\n",
       "      <td>73.0</td>\n",
       "      <td>2</td>\n",
       "      <td>0</td>\n",
       "      <td>0</td>\n",
       "    </tr>\n",
       "    <tr>\n",
       "      <th>3</th>\n",
       "      <td>0</td>\n",
       "      <td>0.20</td>\n",
       "      <td>0.00</td>\n",
       "      <td>465</td>\n",
       "      <td>11.4</td>\n",
       "      <td>94.4</td>\n",
       "      <td>61.2</td>\n",
       "      <td>76.7</td>\n",
       "      <td>61</td>\n",
       "      <td>16</td>\n",
       "      <td>36</td>\n",
       "      <td>47.9</td>\n",
       "      <td>3.1</td>\n",
       "      <td>73.4</td>\n",
       "      <td>73.0</td>\n",
       "      <td>3</td>\n",
       "      <td>0</td>\n",
       "      <td>0</td>\n",
       "    </tr>\n",
       "    <tr>\n",
       "      <th>4</th>\n",
       "      <td>1</td>\n",
       "      <td>0.19</td>\n",
       "      <td>0.00</td>\n",
       "      <td>479</td>\n",
       "      <td>11.9</td>\n",
       "      <td>90.7</td>\n",
       "      <td>58.3</td>\n",
       "      <td>74.1</td>\n",
       "      <td>65</td>\n",
       "      <td>20</td>\n",
       "      <td>41</td>\n",
       "      <td>49.0</td>\n",
       "      <td>3.0</td>\n",
       "      <td>73.1</td>\n",
       "      <td>72.1</td>\n",
       "      <td>4</td>\n",
       "      <td>0</td>\n",
       "      <td>0</td>\n",
       "    </tr>\n",
       "    <tr>\n",
       "      <th>...</th>\n",
       "      <td>...</td>\n",
       "      <td>...</td>\n",
       "      <td>...</td>\n",
       "      <td>...</td>\n",
       "      <td>...</td>\n",
       "      <td>...</td>\n",
       "      <td>...</td>\n",
       "      <td>...</td>\n",
       "      <td>...</td>\n",
       "      <td>...</td>\n",
       "      <td>...</td>\n",
       "      <td>...</td>\n",
       "      <td>...</td>\n",
       "      <td>...</td>\n",
       "      <td>...</td>\n",
       "      <td>...</td>\n",
       "      <td>...</td>\n",
       "      <td>...</td>\n",
       "    </tr>\n",
       "    <tr>\n",
       "      <th>6283</th>\n",
       "      <td>0</td>\n",
       "      <td>0.06</td>\n",
       "      <td>0.07</td>\n",
       "      <td>265</td>\n",
       "      <td>6.1</td>\n",
       "      <td>50.6</td>\n",
       "      <td>34.9</td>\n",
       "      <td>42.9</td>\n",
       "      <td>90</td>\n",
       "      <td>37</td>\n",
       "      <td>65</td>\n",
       "      <td>31.8</td>\n",
       "      <td>3.8</td>\n",
       "      <td>92.0</td>\n",
       "      <td>52.7</td>\n",
       "      <td>2</td>\n",
       "      <td>11</td>\n",
       "      <td>2031</td>\n",
       "    </tr>\n",
       "    <tr>\n",
       "      <th>6284</th>\n",
       "      <td>0</td>\n",
       "      <td>0.11</td>\n",
       "      <td>0.00</td>\n",
       "      <td>445</td>\n",
       "      <td>4.0</td>\n",
       "      <td>58.1</td>\n",
       "      <td>30.2</td>\n",
       "      <td>43.9</td>\n",
       "      <td>71</td>\n",
       "      <td>18</td>\n",
       "      <td>41</td>\n",
       "      <td>21.7</td>\n",
       "      <td>3.0</td>\n",
       "      <td>72.2</td>\n",
       "      <td>51.4</td>\n",
       "      <td>3</td>\n",
       "      <td>11</td>\n",
       "      <td>999</td>\n",
       "    </tr>\n",
       "    <tr>\n",
       "      <th>6285</th>\n",
       "      <td>0</td>\n",
       "      <td>0.13</td>\n",
       "      <td>0.01</td>\n",
       "      <td>446</td>\n",
       "      <td>4.0</td>\n",
       "      <td>64.2</td>\n",
       "      <td>33.2</td>\n",
       "      <td>48.8</td>\n",
       "      <td>67</td>\n",
       "      <td>16</td>\n",
       "      <td>34</td>\n",
       "      <td>21.6</td>\n",
       "      <td>3.4</td>\n",
       "      <td>82.6</td>\n",
       "      <td>51.5</td>\n",
       "      <td>4</td>\n",
       "      <td>11</td>\n",
       "      <td>66</td>\n",
       "    </tr>\n",
       "    <tr>\n",
       "      <th>6286</th>\n",
       "      <td>0</td>\n",
       "      <td>0.14</td>\n",
       "      <td>0.00</td>\n",
       "      <td>438</td>\n",
       "      <td>3.5</td>\n",
       "      <td>68.2</td>\n",
       "      <td>34.4</td>\n",
       "      <td>51.6</td>\n",
       "      <td>54</td>\n",
       "      <td>13</td>\n",
       "      <td>27</td>\n",
       "      <td>18.5</td>\n",
       "      <td>3.2</td>\n",
       "      <td>76.5</td>\n",
       "      <td>51.6</td>\n",
       "      <td>5</td>\n",
       "      <td>11</td>\n",
       "      <td>1044</td>\n",
       "    </tr>\n",
       "    <tr>\n",
       "      <th>6287</th>\n",
       "      <td>0</td>\n",
       "      <td>0.15</td>\n",
       "      <td>0.00</td>\n",
       "      <td>463</td>\n",
       "      <td>3.3</td>\n",
       "      <td>75.4</td>\n",
       "      <td>36.9</td>\n",
       "      <td>55.1</td>\n",
       "      <td>49</td>\n",
       "      <td>8</td>\n",
       "      <td>22</td>\n",
       "      <td>17.2</td>\n",
       "      <td>3.4</td>\n",
       "      <td>80.8</td>\n",
       "      <td>52.0</td>\n",
       "      <td>6</td>\n",
       "      <td>11</td>\n",
       "      <td>38</td>\n",
       "    </tr>\n",
       "  </tbody>\n",
       "</table>\n",
       "<p>6288 rows × 18 columns</p>\n",
       "</div>"
      ],
      "text/plain": [
       "      Holiday  ETo (in)  Precip (in)  Sol Rad (Ly/day)  Avg Vap Pres (mBars)  \\\n",
       "0           0      0.19         0.00               470                  13.2   \n",
       "1           0      0.20         0.00               478                  12.8   \n",
       "2           0      0.19         0.00               463                  12.7   \n",
       "3           0      0.20         0.00               465                  11.4   \n",
       "4           1      0.19         0.00               479                  11.9   \n",
       "...       ...       ...          ...               ...                   ...   \n",
       "6283        0      0.06         0.07               265                   6.1   \n",
       "6284        0      0.11         0.00               445                   4.0   \n",
       "6285        0      0.13         0.01               446                   4.0   \n",
       "6286        0      0.14         0.00               438                   3.5   \n",
       "6287        0      0.15         0.00               463                   3.3   \n",
       "\n",
       "      Max Air Temp (F)  Min Air Temp (F)  Avg Air Temp (F)  Max Rel Hum (%)  \\\n",
       "0                 93.5              60.6              76.0               76   \n",
       "1                 92.5              59.2              75.8               75   \n",
       "2                 92.2              61.0              76.1               67   \n",
       "3                 94.4              61.2              76.7               61   \n",
       "4                 90.7              58.3              74.1               65   \n",
       "...                ...               ...               ...              ...   \n",
       "6283              50.6              34.9              42.9               90   \n",
       "6284              58.1              30.2              43.9               71   \n",
       "6285              64.2              33.2              48.8               67   \n",
       "6286              68.2              34.4              51.6               54   \n",
       "6287              75.4              36.9              55.1               49   \n",
       "\n",
       "      Min Rel Hum (%)  Avg Rel Hum (%)  Dew Point (F)  Avg Wind Speed (mph)  \\\n",
       "0                  21               43           52.0                   3.1   \n",
       "1                  21               42           51.1                   3.3   \n",
       "2                  22               41           50.9                   3.0   \n",
       "3                  16               36           47.9                   3.1   \n",
       "4                  20               41           49.0                   3.0   \n",
       "...               ...              ...            ...                   ...   \n",
       "6283               37               65           31.8                   3.8   \n",
       "6284               18               41           21.7                   3.0   \n",
       "6285               16               34           21.6                   3.4   \n",
       "6286               13               27           18.5                   3.2   \n",
       "6287                8               22           17.2                   3.4   \n",
       "\n",
       "      Wind Run (miles)  Avg Soil Temp (F)  DayOfWeek  ZoneNum  Consumption  \n",
       "0                 75.2               73.2          0        0            0  \n",
       "1                 79.4               73.2          1        0            0  \n",
       "2                 73.1               73.0          2        0            0  \n",
       "3                 73.4               73.0          3        0            0  \n",
       "4                 73.1               72.1          4        0            0  \n",
       "...                ...                ...        ...      ...          ...  \n",
       "6283              92.0               52.7          2       11         2031  \n",
       "6284              72.2               51.4          3       11          999  \n",
       "6285              82.6               51.5          4       11           66  \n",
       "6286              76.5               51.6          5       11         1044  \n",
       "6287              80.8               52.0          6       11           38  \n",
       "\n",
       "[6288 rows x 18 columns]"
      ]
     },
     "metadata": {},
     "output_type": "display_data"
    },
    {
     "name": "stdout",
     "output_type": "stream",
     "text": [
      "<class 'pandas.core.frame.DataFrame'>\n",
      "Int64Index: 6288 entries, 0 to 6287\n",
      "Data columns (total 18 columns):\n",
      " #   Column                Non-Null Count  Dtype  \n",
      "---  ------                --------------  -----  \n",
      " 0   Holiday               6288 non-null   int64  \n",
      " 1   ETo (in)              6288 non-null   float64\n",
      " 2   Precip (in)           6288 non-null   float64\n",
      " 3   Sol Rad (Ly/day)      6288 non-null   int64  \n",
      " 4   Avg Vap Pres (mBars)  6288 non-null   float64\n",
      " 5   Max Air Temp (F)      6288 non-null   float64\n",
      " 6   Min Air Temp (F)      6288 non-null   float64\n",
      " 7   Avg Air Temp (F)      6288 non-null   float64\n",
      " 8   Max Rel Hum (%)       6288 non-null   int64  \n",
      " 9   Min Rel Hum (%)       6288 non-null   int64  \n",
      " 10  Avg Rel Hum (%)       6288 non-null   int64  \n",
      " 11  Dew Point (F)         6288 non-null   float64\n",
      " 12  Avg Wind Speed (mph)  6288 non-null   float64\n",
      " 13  Wind Run (miles)      6288 non-null   float64\n",
      " 14  Avg Soil Temp (F)     6288 non-null   float64\n",
      " 15  DayOfWeek             6288 non-null   int64  \n",
      " 16  ZoneNum               6288 non-null   int64  \n",
      " 17  Consumption           6288 non-null   int64  \n",
      "dtypes: float64(10), int64(8)\n",
      "memory usage: 933.4 KB\n"
     ]
    }
   ],
   "source": [
    "# Look at the data \n",
    "display(all_data)\n",
    "all_data.info()"
   ]
  },
  {
   "cell_type": "code",
   "execution_count": 131,
   "metadata": {},
   "outputs": [
    {
     "name": "stdout",
     "output_type": "stream",
     "text": [
      "COL_INDEX is {'Holiday': 0, 'ETo (in)': 1, 'Precip (in)': 2, 'Sol Rad (Ly/day)': 3, 'Avg Vap Pres (mBars)': 4, 'Max Air Temp (F)': 5, 'Min Air Temp (F)': 6, 'Avg Air Temp (F)': 7, 'Max Rel Hum (%)': 8, 'Min Rel Hum (%)': 9, 'Avg Rel Hum (%)': 10, 'Dew Point (F)': 11, 'Avg Wind Speed (mph)': 12, 'Wind Run (miles)': 13, 'Avg Soil Temp (F)': 14, 'DayOfWeek': 15, 'ZoneNum': 16, 'Consumption': 17}\n",
      "\n",
      "\n"
     ]
    }
   ],
   "source": [
    "# Save the list of columns in a variable\n",
    "COLUMNS = all_data.columns \n",
    "\n",
    "# Create a dictionary to look up any column index by name\n",
    "COL_INDEX = {}\n",
    "for i, name in enumerate(COLUMNS):\n",
    "    COL_INDEX[name] = i  # using the name (as key), look up the value (i)\n",
    "print(f\"COL_INDEX is {COL_INDEX}\\n\\n\")\n"
   ]
  },
  {
   "cell_type": "code",
   "execution_count": 132,
   "metadata": {},
   "outputs": [
    {
     "name": "stdout",
     "output_type": "stream",
     "text": [
      "[[0.000e+00 1.900e-01 0.000e+00 ... 0.000e+00 0.000e+00 0.000e+00]\n",
      " [0.000e+00 2.000e-01 0.000e+00 ... 1.000e+00 0.000e+00 0.000e+00]\n",
      " [0.000e+00 1.900e-01 0.000e+00 ... 2.000e+00 0.000e+00 0.000e+00]\n",
      " ...\n",
      " [0.000e+00 1.300e-01 1.000e-02 ... 4.000e+00 1.100e+01 6.600e+01]\n",
      " [0.000e+00 1.400e-01 0.000e+00 ... 5.000e+00 1.100e+01 1.044e+03]\n",
      " [0.000e+00 1.500e-01 0.000e+00 ... 6.000e+00 1.100e+01 3.800e+01]]\n"
     ]
    }
   ],
   "source": [
    "# convert our dataframe to a numpy array, named A\n",
    "A = all_data.to_numpy()   \n",
    "print(A)"
   ]
  },
  {
   "cell_type": "code",
   "execution_count": 133,
   "metadata": {},
   "outputs": [
    {
     "name": "stdout",
     "output_type": "stream",
     "text": [
      "[[0.000e+00 1.900e-01 0.000e+00 ... 0.000e+00 0.000e+00 0.000e+00]\n",
      " [0.000e+00 2.000e-01 0.000e+00 ... 1.000e+00 0.000e+00 0.000e+00]\n",
      " [0.000e+00 1.900e-01 0.000e+00 ... 2.000e+00 0.000e+00 0.000e+00]\n",
      " ...\n",
      " [0.000e+00 1.300e-01 1.000e-02 ... 4.000e+00 1.100e+01 6.600e+01]\n",
      " [0.000e+00 1.400e-01 0.000e+00 ... 5.000e+00 1.100e+01 1.044e+03]\n",
      " [0.000e+00 1.500e-01 0.000e+00 ... 6.000e+00 1.100e+01 3.800e+01]]\n"
     ]
    }
   ],
   "source": [
    "# Convert all data to floats\n",
    "A = A.astype('float64')  \n",
    "print(A)"
   ]
  },
  {
   "cell_type": "code",
   "execution_count": 134,
   "metadata": {},
   "outputs": [
    {
     "name": "stdout",
     "output_type": "stream",
     "text": [
      "\n",
      "The dataset has 6288 rows and 18 cols\n"
     ]
    }
   ],
   "source": [
    "# Get the NUM_ROWS and NUM_COLS \n",
    "NUM_ROWS, NUM_COLS = A.shape\n",
    "print(f\"\\nThe dataset has {NUM_ROWS} rows and {NUM_COLS} cols\")"
   ]
  },
  {
   "cell_type": "markdown",
   "metadata": {},
   "source": [
    "## Staring the Data Set Up for the Model:"
   ]
  },
  {
   "cell_type": "code",
   "execution_count": 135,
   "metadata": {},
   "outputs": [],
   "source": [
    "# Split the data into two\n",
    "X_all = A[:,0:NUM_COLS-1]  # X (features) ... is all rows, columns 0-16\n",
    "y_all = A[:,NUM_COLS-1]    # y (labels) ... is all rows, last column only"
   ]
  },
  {
   "cell_type": "code",
   "execution_count": 136,
   "metadata": {},
   "outputs": [
    {
     "name": "stdout",
     "output_type": "stream",
     "text": [
      "The scrambled labels/species are \n",
      " [33.  7.  0. ...  1.  0.  0.]\n",
      "The corresponding data rows are \n",
      " [[0.000e+00 1.400e-01 0.000e+00 4.300e+02 4.000e+00 6.770e+01 4.220e+01\n",
      "  5.580e+01 8.000e+01 1.600e+01 2.600e+01 2.190e+01 4.800e+00 1.144e+02\n",
      "  5.290e+01 3.000e+00 1.100e+01]\n",
      " [0.000e+00 1.300e-01 0.000e+00 3.640e+02 9.600e+00 8.780e+01 5.290e+01\n",
      "  6.860e+01 7.200e+01 1.700e+01 4.000e+01 4.350e+01 2.600e+00 6.170e+01\n",
      "  6.330e+01 4.000e+00 6.000e+00]\n",
      " [0.000e+00 1.600e-01 0.000e+00 4.100e+02 5.200e+00 6.640e+01 4.060e+01\n",
      "  5.350e+01 6.900e+01 1.500e+01 3.700e+01 2.820e+01 6.800e+00 1.640e+02\n",
      "  5.250e+01 5.000e+00 4.000e+00]\n",
      " [0.000e+00 6.000e-02 0.000e+00 1.860e+02 1.030e+01 6.300e+01 5.340e+01\n",
      "  5.690e+01 8.200e+01 4.800e+01 6.500e+01 4.540e+01 5.100e+00 1.222e+02\n",
      "  6.350e+01 2.000e+00 5.000e+00]\n",
      " [0.000e+00 2.700e-01 0.000e+00 6.790e+02 1.470e+01 9.640e+01 6.100e+01\n",
      "  7.730e+01 8.300e+01 1.700e+01 4.600e+01 5.480e+01 4.200e+00 1.002e+02\n",
      "  7.530e+01 5.000e+00 1.000e+00]]\n"
     ]
    }
   ],
   "source": [
    "# Scramble the data to remove (potential) dependence on its ordering: \n",
    "indices = np.random.permutation(len(y_all))  # indices is a permutation-list\n",
    "\n",
    "# Scramble both X and y with the same permutation\n",
    "X_permed = X_all[indices]              \n",
    "y_permed = y_all[indices]             \n",
    "print(f\"The scrambled labels/species are \\n {y_permed}\")\n",
    "print(f\"The corresponding data rows are \\n {X_permed[0:5]}\")"
   ]
  },
  {
   "cell_type": "code",
   "execution_count": 137,
   "metadata": {},
   "outputs": [
    {
     "name": "stdout",
     "output_type": "stream",
     "text": [
      "training with 5030 rows;  testing with 1258 rows\n",
      "\n",
      "Held-out data... (testing data: 1258)\n",
      "y_test: [ 48. 105.  60. ...   0.   1.   6.]\n",
      "\n",
      "X_test (few rows): [[0.000e+00 2.200e-01 0.000e+00 6.350e+02 1.380e+01 7.980e+01 5.530e+01\n",
      "  6.500e+01 9.000e+01 3.900e+01 6.600e+01 5.320e+01 4.900e+00 1.166e+02\n",
      "  6.880e+01 5.000e+00 8.000e+00]\n",
      " [0.000e+00 1.300e-01 2.000e-02 4.350e+02 4.100e+00 7.460e+01 3.840e+01\n",
      "  5.610e+01 5.000e+01 1.300e+01 2.600e+01 2.210e+01 3.200e+00 7.760e+01\n",
      "  5.260e+01 4.000e+00 6.000e+00]\n",
      " [0.000e+00 2.100e-01 0.000e+00 5.080e+02 1.790e+01 9.590e+01 6.750e+01\n",
      "  7.950e+01 8.100e+01 2.700e+01 5.200e+01 6.040e+01 4.500e+00 1.085e+02\n",
      "  7.650e+01 4.000e+00 1.100e+01]\n",
      " [0.000e+00 2.600e-01 0.000e+00 5.740e+02 1.690e+01 9.910e+01 6.650e+01\n",
      "  8.310e+01 7.700e+01 2.600e+01 4.400e+01 5.880e+01 4.200e+00 9.990e+01\n",
      "  7.510e+01 6.000e+00 9.000e+00]\n",
      " [0.000e+00 1.000e-01 2.000e-02 3.440e+02 3.600e+00 6.920e+01 3.760e+01\n",
      "  5.260e+01 4.900e+01 1.200e+01 2.600e+01 1.910e+01 3.000e+00 7.260e+01\n",
      "  5.180e+01 2.000e+00 2.000e+00]]\n",
      "\n",
      "Data used for modeling... (training data: 5030)\n",
      "y_train: [  1.   0.   0. ...  15. 202.  10.]\n",
      "\n",
      "X_train (few rows): [[0.000e+00 2.000e-01 0.000e+00 4.450e+02 8.800e+00 9.650e+01 6.190e+01\n",
      "  7.800e+01 5.100e+01 1.100e+01 2.700e+01 4.120e+01 3.000e+00 7.240e+01\n",
      "  7.130e+01 6.000e+00 1.000e+01]\n",
      " [0.000e+00 2.400e-01 0.000e+00 6.580e+02 1.440e+01 8.610e+01 5.430e+01\n",
      "  6.830e+01 9.000e+01 3.500e+01 6.100e+01 5.430e+01 4.700e+00 1.129e+02\n",
      "  6.790e+01 2.000e+00 4.000e+00]\n",
      " [0.000e+00 9.000e-02 0.000e+00 2.630e+02 5.700e+00 7.560e+01 4.290e+01\n",
      "  5.620e+01 6.400e+01 1.400e+01 3.700e+01 3.010e+01 2.900e+00 7.020e+01\n",
      "  5.090e+01 2.000e+00 0.000e+00]\n",
      " [0.000e+00 1.200e-01 0.000e+00 3.030e+02 4.500e+00 8.640e+01 4.970e+01\n",
      "  6.590e+01 3.600e+01 9.000e+00 2.100e+01 2.470e+01 3.400e+00 8.220e+01\n",
      "  5.250e+01 4.000e+00 7.000e+00]\n",
      " [0.000e+00 2.800e-01 0.000e+00 6.430e+02 1.430e+01 9.460e+01 6.640e+01\n",
      "  8.000e+01 7.500e+01 1.900e+01 4.100e+01 5.420e+01 4.600e+00 1.104e+02\n",
      "  7.610e+01 3.000e+00 2.000e+00]]\n"
     ]
    }
   ],
   "source": [
    "# Seperate the data into test data and training data \n",
    "#     Train the model with the training data (do not look at the testing data)\n",
    "#     Then test with the testing data to see how accurate the model is \n",
    "# Use an 80% training, 20% testing data split \n",
    "\n",
    "from sklearn.model_selection import train_test_split\n",
    "\n",
    "X_train, X_test, y_train, y_test = train_test_split(X_all, y_all, test_size=0.2, random_state=42)\n",
    "\n",
    "print(f\"training with {len(y_train)} rows;  testing with {len(y_test)} rows\\n\" )\n",
    "\n",
    "print(f\"Held-out data... (testing data: {len(y_test)})\")\n",
    "print(f\"y_test: {y_test}\\n\")\n",
    "print(f\"X_test (few rows): {X_test[0:5,:]}\")  # 5 rows\n",
    "print()\n",
    "print(f\"Data used for modeling... (training data: {len(y_train)})\")\n",
    "print(f\"y_train: {y_train}\\n\")\n",
    "print(f\"X_train (few rows): {X_train[0:5,:]}\")  # 5 rows"
   ]
  },
  {
   "cell_type": "markdown",
   "metadata": {},
   "source": [
    "## Model Building Begins:"
   ]
  },
  {
   "cell_type": "code",
   "execution_count": 138,
   "metadata": {},
   "outputs": [
    {
     "name": "stdout",
     "output_type": "stream",
     "text": [
      "Created and trained a knn classifier with k = 84\n"
     ]
    }
   ],
   "source": [
    "# Build first KNN Model\n",
    "from sklearn.neighbors import KNeighborsClassifier\n",
    "\n",
    "k = 84   # we don't know what k to use, so this first value is a guess!  \n",
    "knn_model = KNeighborsClassifier(n_neighbors=k)       \n",
    "\n",
    "# we train the model (it's one line!)\n",
    "knn_model.fit(X_train, y_train)                              \n",
    "print(\"Created and trained a knn classifier with k =\", k)  "
   ]
  },
  {
   "cell_type": "markdown",
   "metadata": {},
   "source": [
    "### Test the first version of the model:"
   ]
  },
  {
   "cell_type": "code",
   "execution_count": 139,
   "metadata": {},
   "outputs": [
    {
     "name": "stdout",
     "output_type": "stream",
     "text": [
      "Predicted labels: [0. 0. 0. ... 0. 0. 0.]\n",
      "Actual  labels  : [ 48. 105.  60. ...   0.   1.   6.]\n",
      "\n",
      "Results on test set:  613 correct out of 1258 total.\n"
     ]
    }
   ],
   "source": [
    "# Use the testing data to see how well our current model does\n",
    "predicted_labels = knn_model.predict(X_test)   \n",
    "actual_labels = y_test\n",
    "\n",
    "# Let's print them so we can compare...\n",
    "print(\"Predicted labels:\", predicted_labels)\n",
    "print(\"Actual  labels  :\", actual_labels)\n",
    "\n",
    "# And, some overall results\n",
    "num_correct = sum(predicted_labels == actual_labels)\n",
    "total = len(actual_labels)\n",
    "print(f\"\\nResults on test set:  {num_correct} correct out of {total} total.\")"
   ]
  },
  {
   "cell_type": "markdown",
   "metadata": {},
   "source": [
    "#### Only 45196 out of 76835 we classified correctly so we know that the k value we used is really bad (not optimal)"
   ]
  },
  {
   "cell_type": "markdown",
   "metadata": {},
   "source": [
    "## Use Cross Validation to find the Best K Value:"
   ]
  },
  {
   "cell_type": "code",
   "execution_count": 140,
   "metadata": {},
   "outputs": [
    {
     "name": "stderr",
     "output_type": "stream",
     "text": [
      "/Users/jenniferzecena/opt/anaconda3/lib/python3.7/site-packages/sklearn/model_selection/_split.py:667: UserWarning: The least populated class in y has only 1 members, which is less than n_splits=5.\n",
      "  % (min_groups, self.n_splits)), UserWarning)\n",
      "/Users/jenniferzecena/opt/anaconda3/lib/python3.7/site-packages/sklearn/model_selection/_split.py:667: UserWarning: The least populated class in y has only 1 members, which is less than n_splits=5.\n",
      "  % (min_groups, self.n_splits)), UserWarning)\n"
     ]
    },
    {
     "name": "stdout",
     "output_type": "stream",
     "text": [
      "k:  1  cv accuracy:  0.3942\n",
      "k:  2  cv accuracy:  0.4555\n"
     ]
    },
    {
     "name": "stderr",
     "output_type": "stream",
     "text": [
      "/Users/jenniferzecena/opt/anaconda3/lib/python3.7/site-packages/sklearn/model_selection/_split.py:667: UserWarning: The least populated class in y has only 1 members, which is less than n_splits=5.\n",
      "  % (min_groups, self.n_splits)), UserWarning)\n",
      "/Users/jenniferzecena/opt/anaconda3/lib/python3.7/site-packages/sklearn/model_selection/_split.py:667: UserWarning: The least populated class in y has only 1 members, which is less than n_splits=5.\n",
      "  % (min_groups, self.n_splits)), UserWarning)\n"
     ]
    },
    {
     "name": "stdout",
     "output_type": "stream",
     "text": [
      "k:  3  cv accuracy:  0.4616\n",
      "k:  4  cv accuracy:  0.4630\n"
     ]
    },
    {
     "name": "stderr",
     "output_type": "stream",
     "text": [
      "/Users/jenniferzecena/opt/anaconda3/lib/python3.7/site-packages/sklearn/model_selection/_split.py:667: UserWarning: The least populated class in y has only 1 members, which is less than n_splits=5.\n",
      "  % (min_groups, self.n_splits)), UserWarning)\n",
      "/Users/jenniferzecena/opt/anaconda3/lib/python3.7/site-packages/sklearn/model_selection/_split.py:667: UserWarning: The least populated class in y has only 1 members, which is less than n_splits=5.\n",
      "  % (min_groups, self.n_splits)), UserWarning)\n"
     ]
    },
    {
     "name": "stdout",
     "output_type": "stream",
     "text": [
      "k:  5  cv accuracy:  0.4670\n",
      "k:  6  cv accuracy:  0.4698\n"
     ]
    },
    {
     "name": "stderr",
     "output_type": "stream",
     "text": [
      "/Users/jenniferzecena/opt/anaconda3/lib/python3.7/site-packages/sklearn/model_selection/_split.py:667: UserWarning: The least populated class in y has only 1 members, which is less than n_splits=5.\n",
      "  % (min_groups, self.n_splits)), UserWarning)\n",
      "/Users/jenniferzecena/opt/anaconda3/lib/python3.7/site-packages/sklearn/model_selection/_split.py:667: UserWarning: The least populated class in y has only 1 members, which is less than n_splits=5.\n",
      "  % (min_groups, self.n_splits)), UserWarning)\n"
     ]
    },
    {
     "name": "stdout",
     "output_type": "stream",
     "text": [
      "k:  7  cv accuracy:  0.4722\n",
      "k:  8  cv accuracy:  0.4753\n"
     ]
    },
    {
     "name": "stderr",
     "output_type": "stream",
     "text": [
      "/Users/jenniferzecena/opt/anaconda3/lib/python3.7/site-packages/sklearn/model_selection/_split.py:667: UserWarning: The least populated class in y has only 1 members, which is less than n_splits=5.\n",
      "  % (min_groups, self.n_splits)), UserWarning)\n",
      "/Users/jenniferzecena/opt/anaconda3/lib/python3.7/site-packages/sklearn/model_selection/_split.py:667: UserWarning: The least populated class in y has only 1 members, which is less than n_splits=5.\n",
      "  % (min_groups, self.n_splits)), UserWarning)\n"
     ]
    },
    {
     "name": "stdout",
     "output_type": "stream",
     "text": [
      "k:  9  cv accuracy:  0.4757\n",
      "k: 10  cv accuracy:  0.4751\n"
     ]
    },
    {
     "name": "stderr",
     "output_type": "stream",
     "text": [
      "/Users/jenniferzecena/opt/anaconda3/lib/python3.7/site-packages/sklearn/model_selection/_split.py:667: UserWarning: The least populated class in y has only 1 members, which is less than n_splits=5.\n",
      "  % (min_groups, self.n_splits)), UserWarning)\n",
      "/Users/jenniferzecena/opt/anaconda3/lib/python3.7/site-packages/sklearn/model_selection/_split.py:667: UserWarning: The least populated class in y has only 1 members, which is less than n_splits=5.\n",
      "  % (min_groups, self.n_splits)), UserWarning)\n"
     ]
    },
    {
     "name": "stdout",
     "output_type": "stream",
     "text": [
      "k: 11  cv accuracy:  0.4751\n",
      "k: 12  cv accuracy:  0.4751\n"
     ]
    },
    {
     "name": "stderr",
     "output_type": "stream",
     "text": [
      "/Users/jenniferzecena/opt/anaconda3/lib/python3.7/site-packages/sklearn/model_selection/_split.py:667: UserWarning: The least populated class in y has only 1 members, which is less than n_splits=5.\n",
      "  % (min_groups, self.n_splits)), UserWarning)\n",
      "/Users/jenniferzecena/opt/anaconda3/lib/python3.7/site-packages/sklearn/model_selection/_split.py:667: UserWarning: The least populated class in y has only 1 members, which is less than n_splits=5.\n",
      "  % (min_groups, self.n_splits)), UserWarning)\n"
     ]
    },
    {
     "name": "stdout",
     "output_type": "stream",
     "text": [
      "k: 13  cv accuracy:  0.4755\n",
      "k: 14  cv accuracy:  0.4757\n"
     ]
    },
    {
     "name": "stderr",
     "output_type": "stream",
     "text": [
      "/Users/jenniferzecena/opt/anaconda3/lib/python3.7/site-packages/sklearn/model_selection/_split.py:667: UserWarning: The least populated class in y has only 1 members, which is less than n_splits=5.\n",
      "  % (min_groups, self.n_splits)), UserWarning)\n"
     ]
    },
    {
     "name": "stdout",
     "output_type": "stream",
     "text": [
      "k: 15  cv accuracy:  0.4761\n"
     ]
    },
    {
     "name": "stderr",
     "output_type": "stream",
     "text": [
      "/Users/jenniferzecena/opt/anaconda3/lib/python3.7/site-packages/sklearn/model_selection/_split.py:667: UserWarning: The least populated class in y has only 1 members, which is less than n_splits=5.\n",
      "  % (min_groups, self.n_splits)), UserWarning)\n"
     ]
    },
    {
     "name": "stdout",
     "output_type": "stream",
     "text": [
      "k: 16  cv accuracy:  0.4751\n"
     ]
    },
    {
     "name": "stderr",
     "output_type": "stream",
     "text": [
      "/Users/jenniferzecena/opt/anaconda3/lib/python3.7/site-packages/sklearn/model_selection/_split.py:667: UserWarning: The least populated class in y has only 1 members, which is less than n_splits=5.\n",
      "  % (min_groups, self.n_splits)), UserWarning)\n"
     ]
    },
    {
     "name": "stdout",
     "output_type": "stream",
     "text": [
      "k: 17  cv accuracy:  0.4751\n"
     ]
    },
    {
     "name": "stderr",
     "output_type": "stream",
     "text": [
      "/Users/jenniferzecena/opt/anaconda3/lib/python3.7/site-packages/sklearn/model_selection/_split.py:667: UserWarning: The least populated class in y has only 1 members, which is less than n_splits=5.\n",
      "  % (min_groups, self.n_splits)), UserWarning)\n"
     ]
    },
    {
     "name": "stdout",
     "output_type": "stream",
     "text": [
      "k: 18  cv accuracy:  0.4761\n"
     ]
    },
    {
     "name": "stderr",
     "output_type": "stream",
     "text": [
      "/Users/jenniferzecena/opt/anaconda3/lib/python3.7/site-packages/sklearn/model_selection/_split.py:667: UserWarning: The least populated class in y has only 1 members, which is less than n_splits=5.\n",
      "  % (min_groups, self.n_splits)), UserWarning)\n"
     ]
    },
    {
     "name": "stdout",
     "output_type": "stream",
     "text": [
      "k: 19  cv accuracy:  0.4761\n"
     ]
    },
    {
     "name": "stderr",
     "output_type": "stream",
     "text": [
      "/Users/jenniferzecena/opt/anaconda3/lib/python3.7/site-packages/sklearn/model_selection/_split.py:667: UserWarning: The least populated class in y has only 1 members, which is less than n_splits=5.\n",
      "  % (min_groups, self.n_splits)), UserWarning)\n"
     ]
    },
    {
     "name": "stdout",
     "output_type": "stream",
     "text": [
      "k: 20  cv accuracy:  0.4761\n"
     ]
    },
    {
     "name": "stderr",
     "output_type": "stream",
     "text": [
      "/Users/jenniferzecena/opt/anaconda3/lib/python3.7/site-packages/sklearn/model_selection/_split.py:667: UserWarning: The least populated class in y has only 1 members, which is less than n_splits=5.\n",
      "  % (min_groups, self.n_splits)), UserWarning)\n"
     ]
    },
    {
     "name": "stdout",
     "output_type": "stream",
     "text": [
      "k: 21  cv accuracy:  0.4761\n"
     ]
    },
    {
     "name": "stderr",
     "output_type": "stream",
     "text": [
      "/Users/jenniferzecena/opt/anaconda3/lib/python3.7/site-packages/sklearn/model_selection/_split.py:667: UserWarning: The least populated class in y has only 1 members, which is less than n_splits=5.\n",
      "  % (min_groups, self.n_splits)), UserWarning)\n"
     ]
    },
    {
     "name": "stdout",
     "output_type": "stream",
     "text": [
      "k: 22  cv accuracy:  0.4763\n"
     ]
    },
    {
     "name": "stderr",
     "output_type": "stream",
     "text": [
      "/Users/jenniferzecena/opt/anaconda3/lib/python3.7/site-packages/sklearn/model_selection/_split.py:667: UserWarning: The least populated class in y has only 1 members, which is less than n_splits=5.\n",
      "  % (min_groups, self.n_splits)), UserWarning)\n"
     ]
    },
    {
     "name": "stdout",
     "output_type": "stream",
     "text": [
      "k: 23  cv accuracy:  0.4763\n"
     ]
    },
    {
     "name": "stderr",
     "output_type": "stream",
     "text": [
      "/Users/jenniferzecena/opt/anaconda3/lib/python3.7/site-packages/sklearn/model_selection/_split.py:667: UserWarning: The least populated class in y has only 1 members, which is less than n_splits=5.\n",
      "  % (min_groups, self.n_splits)), UserWarning)\n"
     ]
    },
    {
     "name": "stdout",
     "output_type": "stream",
     "text": [
      "k: 24  cv accuracy:  0.4761\n"
     ]
    },
    {
     "name": "stderr",
     "output_type": "stream",
     "text": [
      "/Users/jenniferzecena/opt/anaconda3/lib/python3.7/site-packages/sklearn/model_selection/_split.py:667: UserWarning: The least populated class in y has only 1 members, which is less than n_splits=5.\n",
      "  % (min_groups, self.n_splits)), UserWarning)\n"
     ]
    },
    {
     "name": "stdout",
     "output_type": "stream",
     "text": [
      "k: 25  cv accuracy:  0.4761\n"
     ]
    },
    {
     "name": "stderr",
     "output_type": "stream",
     "text": [
      "/Users/jenniferzecena/opt/anaconda3/lib/python3.7/site-packages/sklearn/model_selection/_split.py:667: UserWarning: The least populated class in y has only 1 members, which is less than n_splits=5.\n",
      "  % (min_groups, self.n_splits)), UserWarning)\n"
     ]
    },
    {
     "name": "stdout",
     "output_type": "stream",
     "text": [
      "k: 26  cv accuracy:  0.4761\n"
     ]
    },
    {
     "name": "stderr",
     "output_type": "stream",
     "text": [
      "/Users/jenniferzecena/opt/anaconda3/lib/python3.7/site-packages/sklearn/model_selection/_split.py:667: UserWarning: The least populated class in y has only 1 members, which is less than n_splits=5.\n",
      "  % (min_groups, self.n_splits)), UserWarning)\n"
     ]
    },
    {
     "name": "stdout",
     "output_type": "stream",
     "text": [
      "k: 27  cv accuracy:  0.4761\n"
     ]
    },
    {
     "name": "stderr",
     "output_type": "stream",
     "text": [
      "/Users/jenniferzecena/opt/anaconda3/lib/python3.7/site-packages/sklearn/model_selection/_split.py:667: UserWarning: The least populated class in y has only 1 members, which is less than n_splits=5.\n",
      "  % (min_groups, self.n_splits)), UserWarning)\n"
     ]
    },
    {
     "name": "stdout",
     "output_type": "stream",
     "text": [
      "k: 28  cv accuracy:  0.4761\n"
     ]
    },
    {
     "name": "stderr",
     "output_type": "stream",
     "text": [
      "/Users/jenniferzecena/opt/anaconda3/lib/python3.7/site-packages/sklearn/model_selection/_split.py:667: UserWarning: The least populated class in y has only 1 members, which is less than n_splits=5.\n",
      "  % (min_groups, self.n_splits)), UserWarning)\n"
     ]
    },
    {
     "name": "stdout",
     "output_type": "stream",
     "text": [
      "k: 29  cv accuracy:  0.4761\n"
     ]
    },
    {
     "name": "stderr",
     "output_type": "stream",
     "text": [
      "/Users/jenniferzecena/opt/anaconda3/lib/python3.7/site-packages/sklearn/model_selection/_split.py:667: UserWarning: The least populated class in y has only 1 members, which is less than n_splits=5.\n",
      "  % (min_groups, self.n_splits)), UserWarning)\n"
     ]
    },
    {
     "name": "stdout",
     "output_type": "stream",
     "text": [
      "k: 30  cv accuracy:  0.4761\n"
     ]
    },
    {
     "name": "stderr",
     "output_type": "stream",
     "text": [
      "/Users/jenniferzecena/opt/anaconda3/lib/python3.7/site-packages/sklearn/model_selection/_split.py:667: UserWarning: The least populated class in y has only 1 members, which is less than n_splits=5.\n",
      "  % (min_groups, self.n_splits)), UserWarning)\n"
     ]
    },
    {
     "name": "stdout",
     "output_type": "stream",
     "text": [
      "k: 31  cv accuracy:  0.4761\n"
     ]
    },
    {
     "name": "stderr",
     "output_type": "stream",
     "text": [
      "/Users/jenniferzecena/opt/anaconda3/lib/python3.7/site-packages/sklearn/model_selection/_split.py:667: UserWarning: The least populated class in y has only 1 members, which is less than n_splits=5.\n",
      "  % (min_groups, self.n_splits)), UserWarning)\n"
     ]
    },
    {
     "name": "stdout",
     "output_type": "stream",
     "text": [
      "k: 32  cv accuracy:  0.4761\n"
     ]
    },
    {
     "name": "stderr",
     "output_type": "stream",
     "text": [
      "/Users/jenniferzecena/opt/anaconda3/lib/python3.7/site-packages/sklearn/model_selection/_split.py:667: UserWarning: The least populated class in y has only 1 members, which is less than n_splits=5.\n",
      "  % (min_groups, self.n_splits)), UserWarning)\n"
     ]
    },
    {
     "name": "stdout",
     "output_type": "stream",
     "text": [
      "k: 33  cv accuracy:  0.4761\n"
     ]
    },
    {
     "name": "stderr",
     "output_type": "stream",
     "text": [
      "/Users/jenniferzecena/opt/anaconda3/lib/python3.7/site-packages/sklearn/model_selection/_split.py:667: UserWarning: The least populated class in y has only 1 members, which is less than n_splits=5.\n",
      "  % (min_groups, self.n_splits)), UserWarning)\n"
     ]
    },
    {
     "name": "stdout",
     "output_type": "stream",
     "text": [
      "k: 34  cv accuracy:  0.4761\n"
     ]
    },
    {
     "name": "stderr",
     "output_type": "stream",
     "text": [
      "/Users/jenniferzecena/opt/anaconda3/lib/python3.7/site-packages/sklearn/model_selection/_split.py:667: UserWarning: The least populated class in y has only 1 members, which is less than n_splits=5.\n",
      "  % (min_groups, self.n_splits)), UserWarning)\n"
     ]
    },
    {
     "name": "stdout",
     "output_type": "stream",
     "text": [
      "k: 35  cv accuracy:  0.4761\n"
     ]
    },
    {
     "name": "stderr",
     "output_type": "stream",
     "text": [
      "/Users/jenniferzecena/opt/anaconda3/lib/python3.7/site-packages/sklearn/model_selection/_split.py:667: UserWarning: The least populated class in y has only 1 members, which is less than n_splits=5.\n",
      "  % (min_groups, self.n_splits)), UserWarning)\n"
     ]
    },
    {
     "name": "stdout",
     "output_type": "stream",
     "text": [
      "k: 36  cv accuracy:  0.4761\n"
     ]
    },
    {
     "name": "stderr",
     "output_type": "stream",
     "text": [
      "/Users/jenniferzecena/opt/anaconda3/lib/python3.7/site-packages/sklearn/model_selection/_split.py:667: UserWarning: The least populated class in y has only 1 members, which is less than n_splits=5.\n",
      "  % (min_groups, self.n_splits)), UserWarning)\n"
     ]
    },
    {
     "name": "stdout",
     "output_type": "stream",
     "text": [
      "k: 37  cv accuracy:  0.4761\n"
     ]
    },
    {
     "name": "stderr",
     "output_type": "stream",
     "text": [
      "/Users/jenniferzecena/opt/anaconda3/lib/python3.7/site-packages/sklearn/model_selection/_split.py:667: UserWarning: The least populated class in y has only 1 members, which is less than n_splits=5.\n",
      "  % (min_groups, self.n_splits)), UserWarning)\n"
     ]
    },
    {
     "name": "stdout",
     "output_type": "stream",
     "text": [
      "k: 38  cv accuracy:  0.4761\n"
     ]
    },
    {
     "name": "stderr",
     "output_type": "stream",
     "text": [
      "/Users/jenniferzecena/opt/anaconda3/lib/python3.7/site-packages/sklearn/model_selection/_split.py:667: UserWarning: The least populated class in y has only 1 members, which is less than n_splits=5.\n",
      "  % (min_groups, self.n_splits)), UserWarning)\n"
     ]
    },
    {
     "name": "stdout",
     "output_type": "stream",
     "text": [
      "k: 39  cv accuracy:  0.4761\n",
      "best_k = 22   yields the highest average cv accuracy of 0.47634194831013915.\n"
     ]
    }
   ],
   "source": [
    "# cross-validation splits the training set into two pieces:\n",
    "#   + model-building and model-validation. We'll use \"build\" and \"validate\"\n",
    "\n",
    "from sklearn.model_selection import cross_val_score\n",
    "\n",
    "best_k = 84 \n",
    "best_accuracy = 0.0 \n",
    "\n",
    "# Note: only cross-validate using the TEST data\n",
    "for k in range(1,40):\n",
    "    knn_cv_model = KNeighborsClassifier(n_neighbors=k)   # build knn_model for every possible k\n",
    "    cv_scores = cross_val_score( knn_cv_model, X_train, y_train, cv=5 )  # cv=5 means 80/20\n",
    "    average_cv_accuracy = cv_scores.mean() \n",
    "    if average_cv_accuracy > best_accuracy:\n",
    "        best_accuracy = average_cv_accuracy\n",
    "        best_k = k\n",
    "    print(f\"k: {k:2d}  cv accuracy: {average_cv_accuracy:7.4f}\")\n",
    "\n",
    "\n",
    "print(f\"best_k = {best_k}   yields the highest average cv accuracy of {best_accuracy}.\")  # print the best one\n",
    "  "
   ]
  },
  {
   "cell_type": "code",
   "execution_count": 141,
   "metadata": {},
   "outputs": [
    {
     "name": "stderr",
     "output_type": "stream",
     "text": [
      "/Users/jenniferzecena/opt/anaconda3/lib/python3.7/site-packages/sklearn/model_selection/_split.py:667: UserWarning: The least populated class in y has only 1 members, which is less than n_splits=5.\n",
      "  % (min_groups, self.n_splits)), UserWarning)\n",
      "/Users/jenniferzecena/opt/anaconda3/lib/python3.7/site-packages/sklearn/model_selection/_split.py:667: UserWarning: The least populated class in y has only 1 members, which is less than n_splits=5.\n",
      "  % (min_groups, self.n_splits)), UserWarning)\n"
     ]
    },
    {
     "name": "stdout",
     "output_type": "stream",
     "text": [
      "k: 10  cv accuracy:  0.4751\n",
      "k: 11  cv accuracy:  0.4751\n"
     ]
    },
    {
     "name": "stderr",
     "output_type": "stream",
     "text": [
      "/Users/jenniferzecena/opt/anaconda3/lib/python3.7/site-packages/sklearn/model_selection/_split.py:667: UserWarning: The least populated class in y has only 1 members, which is less than n_splits=5.\n",
      "  % (min_groups, self.n_splits)), UserWarning)\n"
     ]
    },
    {
     "name": "stdout",
     "output_type": "stream",
     "text": [
      "k: 12  cv accuracy:  0.4751\n"
     ]
    },
    {
     "name": "stderr",
     "output_type": "stream",
     "text": [
      "/Users/jenniferzecena/opt/anaconda3/lib/python3.7/site-packages/sklearn/model_selection/_split.py:667: UserWarning: The least populated class in y has only 1 members, which is less than n_splits=5.\n",
      "  % (min_groups, self.n_splits)), UserWarning)\n"
     ]
    },
    {
     "name": "stdout",
     "output_type": "stream",
     "text": [
      "k: 13  cv accuracy:  0.4755\n"
     ]
    },
    {
     "name": "stderr",
     "output_type": "stream",
     "text": [
      "/Users/jenniferzecena/opt/anaconda3/lib/python3.7/site-packages/sklearn/model_selection/_split.py:667: UserWarning: The least populated class in y has only 1 members, which is less than n_splits=5.\n",
      "  % (min_groups, self.n_splits)), UserWarning)\n"
     ]
    },
    {
     "name": "stdout",
     "output_type": "stream",
     "text": [
      "k: 14  cv accuracy:  0.4757\n"
     ]
    },
    {
     "name": "stderr",
     "output_type": "stream",
     "text": [
      "/Users/jenniferzecena/opt/anaconda3/lib/python3.7/site-packages/sklearn/model_selection/_split.py:667: UserWarning: The least populated class in y has only 1 members, which is less than n_splits=5.\n",
      "  % (min_groups, self.n_splits)), UserWarning)\n"
     ]
    },
    {
     "name": "stdout",
     "output_type": "stream",
     "text": [
      "k: 15  cv accuracy:  0.4761\n"
     ]
    },
    {
     "name": "stderr",
     "output_type": "stream",
     "text": [
      "/Users/jenniferzecena/opt/anaconda3/lib/python3.7/site-packages/sklearn/model_selection/_split.py:667: UserWarning: The least populated class in y has only 1 members, which is less than n_splits=5.\n",
      "  % (min_groups, self.n_splits)), UserWarning)\n"
     ]
    },
    {
     "name": "stdout",
     "output_type": "stream",
     "text": [
      "k: 16  cv accuracy:  0.4751\n"
     ]
    },
    {
     "name": "stderr",
     "output_type": "stream",
     "text": [
      "/Users/jenniferzecena/opt/anaconda3/lib/python3.7/site-packages/sklearn/model_selection/_split.py:667: UserWarning: The least populated class in y has only 1 members, which is less than n_splits=5.\n",
      "  % (min_groups, self.n_splits)), UserWarning)\n"
     ]
    },
    {
     "name": "stdout",
     "output_type": "stream",
     "text": [
      "k: 17  cv accuracy:  0.4751\n"
     ]
    },
    {
     "name": "stderr",
     "output_type": "stream",
     "text": [
      "/Users/jenniferzecena/opt/anaconda3/lib/python3.7/site-packages/sklearn/model_selection/_split.py:667: UserWarning: The least populated class in y has only 1 members, which is less than n_splits=5.\n",
      "  % (min_groups, self.n_splits)), UserWarning)\n"
     ]
    },
    {
     "name": "stdout",
     "output_type": "stream",
     "text": [
      "k: 18  cv accuracy:  0.4761\n"
     ]
    },
    {
     "name": "stderr",
     "output_type": "stream",
     "text": [
      "/Users/jenniferzecena/opt/anaconda3/lib/python3.7/site-packages/sklearn/model_selection/_split.py:667: UserWarning: The least populated class in y has only 1 members, which is less than n_splits=5.\n",
      "  % (min_groups, self.n_splits)), UserWarning)\n"
     ]
    },
    {
     "name": "stdout",
     "output_type": "stream",
     "text": [
      "k: 19  cv accuracy:  0.4761\n"
     ]
    },
    {
     "name": "stderr",
     "output_type": "stream",
     "text": [
      "/Users/jenniferzecena/opt/anaconda3/lib/python3.7/site-packages/sklearn/model_selection/_split.py:667: UserWarning: The least populated class in y has only 1 members, which is less than n_splits=5.\n",
      "  % (min_groups, self.n_splits)), UserWarning)\n"
     ]
    },
    {
     "name": "stdout",
     "output_type": "stream",
     "text": [
      "k: 20  cv accuracy:  0.4761\n",
      "best_k = 15   yields the highest average cv accuracy of 0.4761431411530815.\n"
     ]
    }
   ],
   "source": [
    "## Cross Validation Part 2\n",
    "\n",
    "from sklearn.model_selection import cross_val_score\n",
    "\n",
    "best_k = 1\n",
    "best_accuracy = 0.0 \n",
    "\n",
    "# Note: only cross-validate using the TEST data\n",
    "for k in range(10,21):\n",
    "    knn_cv_model = KNeighborsClassifier(n_neighbors=k)   # build knn_model for every possible k\n",
    "    cv_scores = cross_val_score( knn_cv_model, X_train, y_train, cv=5 )  # cv=5 means 80/20\n",
    "    average_cv_accuracy = cv_scores.mean() \n",
    "    if average_cv_accuracy > best_accuracy:\n",
    "        best_accuracy = average_cv_accuracy\n",
    "        best_k = k\n",
    "    print(f\"k: {k:2d}  cv accuracy: {average_cv_accuracy:7.4f}\")\n",
    "\n",
    "\n",
    "print(f\"best_k = {best_k}   yields the highest average cv accuracy of {best_accuracy}.\")  # print the best one\n",
    "  "
   ]
  },
  {
   "cell_type": "markdown",
   "metadata": {},
   "source": [
    "## Use the best K value to build a Tuned Predictive Model "
   ]
  },
  {
   "cell_type": "code",
   "execution_count": 142,
   "metadata": {},
   "outputs": [
    {
     "name": "stdout",
     "output_type": "stream",
     "text": [
      "Created + trained a knn classifier, now tuned with a (best) k of 1\n"
     ]
    }
   ],
   "source": [
    "# Use best k to build and train a new model:\n",
    "\n",
    "best_k = 1\n",
    "from sklearn.neighbors import KNeighborsClassifier\n",
    "knn_model_tuned = KNeighborsClassifier(n_neighbors=best_k)   # here, we use the best_k!\n",
    "\n",
    "# we train the model (one line!)\n",
    "knn_model_tuned.fit(X_train, y_train)                              # yay!  trained!\n",
    "print(f\"Created + trained a knn classifier, now tuned with a (best) k of {best_k}\")  "
   ]
  },
  {
   "cell_type": "code",
   "execution_count": 143,
   "metadata": {},
   "outputs": [
    {
     "name": "stdout",
     "output_type": "stream",
     "text": [
      "Predicted labels: [439.   0.   3. ...   0.  18.   0.]\n",
      "Actual labels: [ 48. 105.  60. ...   0.   1.   6.]\n",
      "\n",
      "Results on test set:  511 correct out of 1258 total.\n",
      "\n",
      "\n"
     ]
    }
   ],
   "source": [
    "# Test the tuned model on the test data \n",
    "predicted_labels = knn_model_tuned.predict(X_test)\n",
    "actual_labels = y_test\n",
    "\n",
    "# Let's print them so we can compare...\n",
    "print(\"Predicted labels:\", predicted_labels)\n",
    "print(\"Actual labels:\", actual_labels)\n",
    "\n",
    "# And, the overall results\n",
    "num_correct = sum(predicted_labels == actual_labels)\n",
    "total = len(actual_labels)\n",
    "print(f\"\\nResults on test set:  {num_correct} correct out of {total} total.\\n\\n\")"
   ]
  },
  {
   "cell_type": "markdown",
   "metadata": {},
   "source": [
    "#### 53152 out of 76835 are correct, this is better than before but still not great. Future work includes making changes to the data set and model to increase the model accuracy "
   ]
  },
  {
   "cell_type": "markdown",
   "metadata": {},
   "source": [
    "## Create the Final Model: "
   ]
  },
  {
   "cell_type": "code",
   "execution_count": 144,
   "metadata": {},
   "outputs": [
    {
     "name": "stdout",
     "output_type": "stream",
     "text": [
      "Created + trained a 'final' knn classifier, with a (best) k of 1\n"
     ]
    }
   ],
   "source": [
    "# Use ALL available data to train the final predictive model:\n",
    "\n",
    "knn_model_final = KNeighborsClassifier(n_neighbors=best_k)   # here, we use the best_k\n",
    "knn_model_final.fit(X_all, y_all)                              # here we use ALL the data!\n",
    "print(f\"Created + trained a 'final' knn classifier, with a (best) k of {best_k}\") \n",
    "\n"
   ]
  },
  {
   "cell_type": "code",
   "execution_count": 145,
   "metadata": {},
   "outputs": [],
   "source": [
    "# Create a pickle file of the model\n",
    "pickle.dump(knn_model_final, open(\"model.pkl\", \"wb\"))"
   ]
  },
  {
   "cell_type": "code",
   "execution_count": 146,
   "metadata": {},
   "outputs": [],
   "source": [
    "# final predictive model (k-nearest-neighbor), with tuned k + ALL data incorporated\n",
    "\n",
    "def predictive_model( Features, Model ):\n",
    "    \"\"\" input: a list of four features \n",
    "        output: the predicted consumption bucket \n",
    "    \"\"\"\n",
    "    our_features = np.asarray([Features])                \n",
    "\n",
    "    predicted_species = Model.predict(our_features)\n",
    "    \n",
    "    predicted_species = int(round(predicted_species[0]))  \n",
    "    return predicted_species\n"
   ]
  },
  {
   "cell_type": "code",
   "execution_count": 147,
   "metadata": {},
   "outputs": [
    {
     "name": "stdout",
     "output_type": "stream",
     "text": [
      " The model predicts 0 from the features [0, 0.19, 0.0, 470, 13.2, 93.5, 60.6, 76.0, 76, 21, 43, 52.0, 3.1, 75.2, 73.2, 0, 0]\n"
     ]
    }
   ],
   "source": [
    "# pass a list of features into the model and get the output\n",
    "\n",
    "Features = [0, 0.19, 0.00, 470, 13.2, 93.5, 60.6, 76.0, 76, 21, 43, 52.0, 3.1, 75.2, 73.2, 0, 0]\n",
    "\n",
    "prediction = predictive_model(Features, knn_model_final)\n",
    "print(f\" The model predicts {prediction} from the features {Features}\")"
   ]
  }
 ],
 "metadata": {
  "interpreter": {
   "hash": "6303bababa2cfec4792f2b0c1072814fdfa7052137521100bb94425bd832a0f7"
  },
  "kernelspec": {
   "display_name": "Python 3.7.6 ('base')",
   "language": "python",
   "name": "python3"
  },
  "language_info": {
   "codemirror_mode": {
    "name": "ipython",
    "version": 3
   },
   "file_extension": ".py",
   "mimetype": "text/x-python",
   "name": "python",
   "nbconvert_exporter": "python",
   "pygments_lexer": "ipython3",
   "version": "3.7.6"
  },
  "orig_nbformat": 4
 },
 "nbformat": 4,
 "nbformat_minor": 2
}
